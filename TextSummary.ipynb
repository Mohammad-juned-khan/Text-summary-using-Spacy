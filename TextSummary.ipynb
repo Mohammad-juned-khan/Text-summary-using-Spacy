{
 "cells": [
  {
   "cell_type": "code",
   "execution_count": 12,
   "id": "varied-cleaner",
   "metadata": {},
   "outputs": [],
   "source": [
    "#import libraries\n",
    "import spacy\n",
    "from spacy.lang.en.stop_words import STOP_WORDS\n",
    "from string import punctuation\n",
    "stopwords=list(STOP_WORDS)\n",
    "nlp=spacy.load('en_core_web_sm')\n",
    "from heapq import nlargest\n",
    "punctuation=punctuation+\"\\n\"+\" \"+\"  \""
   ]
  },
  {
   "cell_type": "code",
   "execution_count": 2,
   "id": "ultimate-repeat",
   "metadata": {},
   "outputs": [],
   "source": [
    "text=\"lifestyle  governs mobile choice  faster  better or funkier hardware alone is not going to help phone firms sell more handsets  research suggests.  instead  phone firms keen to get more out of their customers should not just be pushing the technology for its own sake. consumers are far more interested in how handsets fit in with their lifestyle than they are in screen size  onboard memory or the chip inside  shows an in-depth study by handset maker ericsson.  historically in the industry there has been too much focus on using technology   said dr michael bjorn  senior advisor on mobile media at ericsson s consumer and enterprise lab.  we have to stop saying that these technologies will change their lives   he said.  we should try to speak to consumers in their own language and help them see how it fits in with what they are doing   he told the bbc news website.  for the study  ericsson interviewed 14 000 mobile phone owners on the ways they use their phone.  people s habits remain the same   said dr bjorn.  they just move the activity into the mobile phone as it s a much more convenient way to do it.   one good example of this was diary-writing among younger people  he said. while diaries have always been popular  a mobile phone -- especially one equipped with a camera -- helps them keep it in a different form. youngsters  use of text messages also reflects their desire to chat and keep in contact with friends and again just lets them do it in a slightly changed way. dr bjorn said that although consumers do what they always did but use a phone to do it  the sheer variety of what the new handset technologies make possible does gradually drive new habits and lifestyles. ericsson s research has shown that consumers divide into different  tribes  that use phones in different ways. dr bjorn said groups dubbed  pioneers  and  materialists  were most interested in trying new things and were behind the start of many trends in phone use.  for instance   he said   older people are using sms much more than they did five years ago.  this was because younger users  often the children of ageing mobile owners  encouraged older people to try it so they could keep in touch.  another factor governing the speed of change in mobile phone use was the simple speed with which new devices are bought by pioneers and materialists. only when about 25% of people have handsets with new innovations on them  such as cameras  can consumers stop worrying that if they send a picture message the person at the other end will be able to see it.  once this significant number of users is passed  use of new innovations tends to take off. dr bjorn said that early reports of camera phone usage in japan seemed to imply that the innovation was going to be a flop. however  he said  now 45% of the japanese people ericsson questioned use their camera phone at least once a month. in 2003 the figure was 29%. similarly  across europe the numbers of people taking snaps with cameras is starting to rise. in 2003 only 4% of the people in the uk took a phonecam snap at least once a month. now the figure is 14%. similar rises have been seen in many other european nations. dr bjorn said that people also used their camera phones in very different ways to film and even digital cameras.  usage patterns for digital cameras are almost exactly replacing usage patterns for analogue cameras   he said. digital cameras tend to be used on significant events such as weddings  holidays and birthdays. by contrast  he said  camera phones were being used much more to capture a moment and were being woven into everyday life\""
   ]
  },
  {
   "cell_type": "code",
   "execution_count": 13,
   "id": "digital-bouquet",
   "metadata": {},
   "outputs": [],
   "source": [
    "def process(text):\n",
    "    \n",
    "    nlp=spacy.load('en_core_web_sm')\n",
    "    doc=nlp(text)\n",
    "    \n",
    "    #create Tokens of words\n",
    "    tokens=[token.text for token in doc]\n",
    "    #remove punctuations\n",
    "    \n",
    "    word_frequencies={}\n",
    "    for word in doc:\n",
    "        if word .text.lower() not in stopwords:\n",
    "            if word.text.lower() not in punctuation:\n",
    "                if word.text not in word_frequencies.keys():\n",
    "                    word_frequencies[word.text]=1\n",
    "                else:\n",
    "                    word_frequencies[word.text]+=1\n",
    "    max_frequency=max(word_frequencies.values())\n",
    "    # normalize the frequencies of words\n",
    "    for word in word_frequencies.keys():\n",
    "        word_frequencies[word]=word_frequencies[word]/max_frequency\n",
    "    # sentence tokenization\n",
    "    sentence_tokens=[sent for sent in doc.sents]\n",
    "    sentence_score={}\n",
    "    for sent in sentence_tokens:\n",
    "        for word in sent:\n",
    "            if word.text.lower() in word_frequencies.keys():\n",
    "                if sent not in sentence_score.keys():\n",
    "                    sentence_score[sent]=word_frequencies[word.text.lower()]\n",
    "                else:\n",
    "                    sentence_score[sent]+=word_frequencies[word.text.lower()]\n",
    "    select_length=int(len(sentence_tokens)*0.4)\n",
    "    summary=nlargest(select_length,sentence_score,key=sentence_score.get)\n",
    "    final_summary=[word.text for word in summary]\n",
    "    summary=\" \".join(final_summary)\n",
    "    \n",
    "    return summary"
   ]
  },
  {
   "cell_type": "code",
   "execution_count": 14,
   "id": "finnish-preservation",
   "metadata": {},
   "outputs": [
    {
     "data": {
      "text/plain": [
       "'dr bjorn said that although consumers do what they always did but use a phone to do it  the sheer variety of what the new handset technologies make possible does gradually drive new habits and lifestyles. dr bjorn said groups dubbed  pioneers  and  materialists  were most interested in trying new things and were behind the start of many trends in phone use.   dr bjorn said that people also used their camera phones in very different ways to film and even digital cameras.   however  he said  now 45% of the japanese people ericsson questioned use their camera phone at least once a month. ericsson interviewed 14 000 mobile phone owners on the ways they use their phone.   dr bjorn said that early reports of camera phone usage in japan seemed to imply that the innovation was going to be a flop. said dr michael bjorn  senior advisor on mobile media at ericsson s consumer and enterprise lab.   another factor governing the speed of change in mobile phone use was the simple speed with which new devices are bought by pioneers and materialists. only when about 25% of people have handsets with new innovations on them  such as cameras  can consumers stop worrying that if they send a picture message the person at the other end will be able to see it.   people s habits remain the same   said dr bjorn.   while diaries have always been popular  a mobile phone -- especially one equipped with a camera -- helps them keep it in a different form. consumers are far more interested in how handsets fit in with their lifestyle than they are in screen size  onboard memory or the chip inside  shows an in-depth study by handset maker ericsson.   this was because younger users  often the children of ageing mobile owners  encouraged older people to try it so they could keep in touch.   faster  better or funkier hardware alone is not going to help phone firms sell more handsets  research suggests.   usage patterns for digital cameras are almost exactly replacing usage patterns for analogue cameras    one good example of this was diary-writing among younger people  he said.'"
      ]
     },
     "execution_count": 14,
     "metadata": {},
     "output_type": "execute_result"
    }
   ],
   "source": [
    "process(text)"
   ]
  },
  {
   "cell_type": "code",
   "execution_count": null,
   "id": "lovely-difference",
   "metadata": {},
   "outputs": [],
   "source": []
  }
 ],
 "metadata": {
  "kernelspec": {
   "display_name": "Python [conda env:mlwork] *",
   "language": "python",
   "name": "conda-env-mlwork-py"
  },
  "language_info": {
   "codemirror_mode": {
    "name": "ipython",
    "version": 3
   },
   "file_extension": ".py",
   "mimetype": "text/x-python",
   "name": "python",
   "nbconvert_exporter": "python",
   "pygments_lexer": "ipython3",
   "version": "3.8.5"
  }
 },
 "nbformat": 4,
 "nbformat_minor": 5
}
